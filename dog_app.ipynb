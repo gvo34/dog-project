{
 "cells": [
  {
   "cell_type": "markdown",
   "metadata": {},
   "source": [
    "# Artificial Intelligence Nanodegree\n",
    "\n",
    "## Convolutional Neural Networks\n",
    "\n",
    "## Project: Write an Algorithm for a Dog Identification App \n",
    "\n",
    "---\n",
    "\n",
    "In this notebook, some template code has already been provided for you, and you will need to implement additional functionality to successfully complete this project. You will not need to modify the included code beyond what is requested. Sections that begin with **'(IMPLEMENTATION)'** in the header indicate that the following block of code will require additional functionality which you must provide. Instructions will be provided for each section, and the specifics of the implementation are marked in the code block with a 'TODO' statement. Please be sure to read the instructions carefully! \n",
    "\n",
    "> **Note**: Once you have completed all of the code implementations, you need to finalize your work by exporting the iPython Notebook as an HTML document. Before exporting the notebook to html, all of the code cells need to have been run so that reviewers can see the final implementation and output. You can then export the notebook by using the menu above and navigating to  \\n\",\n",
    "    \"**File -> Download as -> HTML (.html)**. Include the finished document along with this notebook as your submission.\n",
    "\n",
    "In addition to implementing code, there will be questions that you must answer which relate to the project and your implementation. Each section where you will answer a question is preceded by a **'Question X'** header. Carefully read each question and provide thorough answers in the following text boxes that begin with **'Answer:'**. Your project submission will be evaluated based on your answers to each of the questions and the implementation you provide.\n",
    "\n",
    ">**Note:** Code and Markdown cells can be executed using the **Shift + Enter** keyboard shortcut.  Markdown cells can be edited by double-clicking the cell to enter edit mode.\n",
    "\n",
    "The rubric contains _optional_ \"Stand Out Suggestions\" for enhancing the project beyond the minimum requirements. If you decide to pursue the \"Stand Out Suggestions\", you should include the code in this IPython notebook.\n",
    "\n",
    "\n",
    "\n",
    "---\n",
    "### Why We're Here \n",
    "\n",
    "In this notebook, you will make the first steps towards developing an algorithm that could be used as part of a mobile or web app.  At the end of this project, your code will accept any user-supplied image as input.  If a dog is detected in the image, it will provide an estimate of the dog's breed.  If a human is detected, it will provide an estimate of the dog breed that is most resembling.  The image below displays potential sample output of your finished project (... but we expect that each student's algorithm will behave differently!). \n",
    "\n",
    "![Sample Dog Output](images/sample_dog_output.png)\n",
    "\n",
    "In this real-world setting, you will need to piece together a series of models to perform different tasks; for instance, the algorithm that detects humans in an image will be different from the CNN that infers dog breed.  There are many points of possible failure, and no perfect algorithm exists.  Your imperfect solution will nonetheless create a fun user experience!\n",
    "\n",
    "### The Road Ahead\n",
    "\n",
    "We break the notebook into separate steps.  Feel free to use the links below to navigate the notebook.\n",
    "\n",
    "* [Step 0](#step0): Import Datasets\n",
    "* [Step 1](#step1): Detect Humans\n",
    "* [Step 2](#step2): Detect Dogs\n",
    "* [Step 3](#step3): Create a CNN to Classify Dog Breeds (from Scratch)\n",
    "* [Step 4](#step4): Use a CNN to Classify Dog Breeds (using Transfer Learning)\n",
    "* [Step 5](#step5): Create a CNN to Classify Dog Breeds (using Transfer Learning)\n",
    "* [Step 6](#step6): Write your Algorithm\n",
    "* [Step 7](#step7): Test Your Algorithm\n",
    "\n",
    "---\n",
    "<a id='step0'></a>\n",
    "## Step 0: Import Datasets\n",
    "\n",
    "### Import Dog Dataset\n",
    "\n",
    "In the code cell below, we import a dataset of dog images.  We populate a few variables through the use of the `load_files` function from the scikit-learn library:\n",
    "- `train_files`, `valid_files`, `test_files` - numpy arrays containing file paths to images\n",
    "- `train_targets`, `valid_targets`, `test_targets` - numpy arrays containing onehot-encoded classification labels \n",
    "- `dog_names` - list of string-valued dog breed names for translating labels"
   ]
  },
  {
   "cell_type": "code",
   "execution_count": 1,
   "metadata": {},
   "outputs": [
    {
     "name": "stderr",
     "output_type": "stream",
     "text": [
      "Using TensorFlow backend.\n"
     ]
    },
    {
     "name": "stdout",
     "output_type": "stream",
     "text": [
      "There are 133 total dog categories.\n",
      "There are 8351 total dog images.\n",
      "\n",
      "There are 6680 training dog images.\n",
      "There are 835 validation dog images.\n",
      "There are 836 test dog images.\n"
     ]
    }
   ],
   "source": [
    "from sklearn.datasets import load_files       \n",
    "from keras.utils import np_utils\n",
    "import numpy as np\n",
    "from glob import glob\n",
    "\n",
    "# define function to load train, test, and validation datasets\n",
    "def load_dataset(path):\n",
    "    data = load_files(path)\n",
    "    dog_files = np.array(data['filenames'])\n",
    "    dog_targets = np_utils.to_categorical(np.array(data['target']), 133)\n",
    "    return dog_files, dog_targets\n",
    "\n",
    "# load train, test, and validation datasets\n",
    "train_files, train_targets = load_dataset('dogImages/train')\n",
    "valid_files, valid_targets = load_dataset('dogImages/valid')\n",
    "test_files, test_targets = load_dataset('dogImages/test')\n",
    "\n",
    "# load list of dog names\n",
    "dog_names = [item[20:-1] for item in sorted(glob(\"dogImages/train/*/\"))]\n",
    "\n",
    "# print statistics about the dataset\n",
    "print('There are %d total dog categories.' % len(dog_names))\n",
    "print('There are %s total dog images.\\n' % len(np.hstack([train_files, valid_files, test_files])))\n",
    "print('There are %d training dog images.' % len(train_files))\n",
    "print('There are %d validation dog images.' % len(valid_files))\n",
    "print('There are %d test dog images.'% len(test_files))"
   ]
  },
  {
   "cell_type": "markdown",
   "metadata": {},
   "source": [
    "### Import Human Dataset\n",
    "\n",
    "In the code cell below, we import a dataset of human images, where the file paths are stored in the numpy array `human_files`."
   ]
  },
  {
   "cell_type": "code",
   "execution_count": 2,
   "metadata": {},
   "outputs": [
    {
     "name": "stdout",
     "output_type": "stream",
     "text": [
      "There are 13233 total human images.\n"
     ]
    }
   ],
   "source": [
    "import random\n",
    "random.seed(8675309)\n",
    "\n",
    "# load filenames in shuffled human dataset\n",
    "human_files = np.array(glob(\"lfw/*/*\"))\n",
    "random.shuffle(human_files)\n",
    "\n",
    "# print statistics about the dataset\n",
    "print('There are %d total human images.' % len(human_files))"
   ]
  },
  {
   "cell_type": "markdown",
   "metadata": {},
   "source": [
    "---\n",
    "<a id='step1'></a>\n",
    "## Step 1: Detect Humans\n",
    "\n",
    "We use OpenCV's implementation of [Haar feature-based cascade classifiers](http://docs.opencv.org/trunk/d7/d8b/tutorial_py_face_detection.html) to detect human faces in images.  OpenCV provides many pre-trained face detectors, stored as XML files on [github](https://github.com/opencv/opencv/tree/master/data/haarcascades).  We have downloaded one of these detectors and stored it in the `haarcascades` directory.\n",
    "\n",
    "In the next code cell, we demonstrate how to use this detector to find human faces in a sample image."
   ]
  },
  {
   "cell_type": "code",
   "execution_count": 3,
   "metadata": {},
   "outputs": [
    {
     "name": "stdout",
     "output_type": "stream",
     "text": [
      "Number of faces detected: 2\n"
     ]
    },
    {
     "data": {
      "image/png": "[encoded data removed]",
      "text/plain": [
       "<Figure size 432x288 with 1 Axes>"
      ]
     },
     "metadata": {},
     "output_type": "display_data"
    }
   ],
   "source": [
    "import cv2                \n",
    "import matplotlib.pyplot as plt                        \n",
    "%matplotlib inline                               \n",
    "\n",
    "# extract pre-trained face detector\n",
    "face_cascade = cv2.CascadeClassifier('haarcascades/haarcascade_frontalface_alt.xml')\n",
    "\n",
    "# load color (BGR) image\n",
    "img = cv2.imread(human_files[3])\n",
    "# convert BGR image to grayscale\n",
    "gray = cv2.cvtColor(img, cv2.COLOR_BGR2GRAY)\n",
    "\n",
    "# find faces in image\n",
    "faces = face_cascade.detectMultiScale(gray)\n",
    "\n",
    "# print number of faces detected in the image\n",
    "print('Number of faces detected:', len(faces))\n",
    "\n",
    "# get bounding box for each detected face\n",
    "for (x,y,w,h) in faces:\n",
    "    # add bounding box to color image\n",
    "    cv2.rectangle(img,(x,y),(x+w,y+h),(255,0,0),2)\n",
    "    \n",
    "# convert BGR image to RGB for plotting\n",
    "cv_rgb = cv2.cvtColor(img, cv2.COLOR_BGR2RGB)\n",
    "\n",
    "# display the image, along with bounding box\n",
    "plt.imshow(cv_rgb)\n",
    "plt.show()"
   ]
  },
  {
   "cell_type": "markdown",
   "metadata": {},
   "source": [
    "Before using any of the face detectors, it is standard procedure to convert the images to grayscale.  The `detectMultiScale` function executes the classifier stored in `face_cascade` and takes the grayscale image as a parameter.  \n",
    "\n",
    "In the above code, `faces` is a numpy array of detected faces, where each row corresponds to a detected face.  Each detected face is a 1D array with four entries that specifies the bounding box of the detected face.  The first two entries in the array (extracted in the above code as `x` and `y`) specify the horizontal and vertical positions of the top left corner of the bounding box.  The last two entries in the array (extracted here as `w` and `h`) specify the width and height of the box.\n",
    "\n",
    "### Write a Human Face Detector\n",
    "\n",
    "We can use this procedure to write a function that returns `True` if a human face is detected in an image and `False` otherwise.  This function, aptly named `face_detector`, takes a string-valued file path to an image as input and appears in the code block below."
   ]
  },
  {
   "cell_type": "code",
   "execution_count": 4,
   "metadata": {},
   "outputs": [],
   "source": [
    "# returns \"True\" if face is detected in image stored at img_path\n",
    "def face_detector(img_path):\n",
    "    img = cv2.imread(img_path)\n",
    "    gray = cv2.cvtColor(img, cv2.COLOR_BGR2GRAY)\n",
    "    faces = face_cascade.detectMultiScale(gray)\n",
    "    return len(faces) > 0"
   ]
  },
  {
   "cell_type": "markdown",
   "metadata": {},
   "source": [
    "### (IMPLEMENTATION) Assess the Human Face Detector\n",
    "\n",
    "__Question 1:__ Use the code cell below to test the performance of the `face_detector` function.  \n",
    "- What percentage of the first 100 images in `human_files` have a detected human face?  \n",
    "- What percentage of the first 100 images in `dog_files` have a detected human face? \n",
    "\n",
    "Ideally, we would like 100% of human images with a detected face and 0% of dog images with a detected face.  You will see that our algorithm falls short of this goal, but still gives acceptable performance.  We extract the file paths for the first 100 images from each of the datasets and store them in the numpy arrays `human_files_short` and `dog_files_short`.\n",
    "\n",
    "__Answer:__ "
   ]
  },
  {
   "cell_type": "code",
   "execution_count": 5,
   "metadata": {},
   "outputs": [
    {
     "name": "stdout",
     "output_type": "stream",
     "text": [
      "human face detected in human files 99 %\n",
      "human face detected in dog files 12 %\n"
     ]
    }
   ],
   "source": [
    "human_files_short = human_files[:100]\n",
    "dog_files_short = train_files[:100]\n",
    "# Do NOT modify the code above this line.\n",
    "\n",
    "## TODO: Test the performance of the face_detector algorithm \n",
    "## on the images in human_files_short and dog_files_short.\n",
    "\n",
    "def count_humans(files):\n",
    "    c = 0\n",
    "    for i in files:\n",
    "        if face_detector(i):\n",
    "            c+=1\n",
    "    return c\n",
    "\n",
    "print(\"human face detected in human files %d %%\"% count_humans(human_files_short))\n",
    "print(\"human face detected in dog files %d %%\"% count_humans(dog_files_short))\n"
   ]
  },
  {
   "cell_type": "markdown",
   "metadata": {},
   "source": [
    "__Question 2:__ This algorithmic choice necessitates that we communicate to the user that we accept human images only when they provide a clear view of a face (otherwise, we risk having unneccessarily frustrated users!). In your opinion, is this a reasonable expectation to pose on the user? If not, can you think of a way to detect humans in images that does not necessitate an image with a clearly presented face?\n",
    "\n",
    "__Answer:__\n",
    "\n",
    "We suggest the face detector from OpenCV as a potential way to detect human images in your algorithm, but you are free to explore other approaches, especially approaches that make use of deep learning :).  Please use the code cell below to design and test your own face detection algorithm.  If you decide to pursue this _optional_ task, report performance on each of the datasets."
   ]
  },
  {
   "cell_type": "code",
   "execution_count": 6,
   "metadata": {},
   "outputs": [],
   "source": [
    "## (Optional) TODO: Report the performance of another  \n",
    "## face detection algorithm on the LFW dataset\n",
    "### Feel free to use as many code cells as needed."
   ]
  },
  {
   "cell_type": "markdown",
   "metadata": {},
   "source": [
    "---\n",
    "<a id='step2'></a>\n",
    "## Step 2: Detect Dogs\n",
    "\n",
    "In this section, we use a pre-trained [ResNet-50](http://ethereon.github.io/netscope/#/gist/db945b393d40bfa26006) model to detect dogs in images.  Our first line of code downloads the ResNet-50 model, along with weights that have been trained on [ImageNet](http://www.image-net.org/), a very large, very popular dataset used for image classification and other vision tasks.  ImageNet contains over 10 million URLs, each linking to an image containing an object from one of [1000 categories](https://gist.github.com/yrevar/942d3a0ac09ec9e5eb3a).  Given an image, this pre-trained ResNet-50 model returns a prediction (derived from the available categories in ImageNet) for the object that is contained in the image."
   ]
  },
  {
   "cell_type": "code",
   "execution_count": 7,
   "metadata": {},
   "outputs": [],
   "source": [
    "from keras.applications.resnet50 import ResNet50\n",
    "\n",
    "# define ResNet50 model\n",
    "ResNet50_model = ResNet50(weights='imagenet')"
   ]
  },
  {
   "cell_type": "markdown",
   "metadata": {},
   "source": [
    "### Pre-process the Data\n",
    "\n",
    "When using TensorFlow as backend, Keras CNNs require a 4D array (which we'll also refer to as a 4D tensor) as input, with shape\n",
    "\n",
    "$$\n",
    "(\\text{nb_samples}, \\text{rows}, \\text{columns}, \\text{channels}),\n",
    "$$\n",
    "\n",
    "where `nb_samples` corresponds to the total number of images (or samples), and `rows`, `columns`, and `channels` correspond to the number of rows, columns, and channels for each image, respectively.  \n",
    "\n",
    "The `path_to_tensor` function below takes a string-valued file path to a color image as input and returns a 4D tensor suitable for supplying to a Keras CNN.  The function first loads the image and resizes it to a square image that is $224 \\times 224$ pixels.  Next, the image is converted to an array, which is then resized to a 4D tensor.  In this case, since we are working with color images, each image has three channels.  Likewise, since we are processing a single image (or sample), the returned tensor will always have shape\n",
    "\n",
    "$$\n",
    "(1, 224, 224, 3).\n",
    "$$\n",
    "\n",
    "The `paths_to_tensor` function takes a numpy array of string-valued image paths as input and returns a 4D tensor with shape \n",
    "\n",
    "$$\n",
    "(\\text{nb_samples}, 224, 224, 3).\n",
    "$$\n",
    "\n",
    "Here, `nb_samples` is the number of samples, or number of images, in the supplied array of image paths.  It is best to think of `nb_samples` as the number of 3D tensors (where each 3D tensor corresponds to a different image) in your dataset!"
   ]
  },
  {
   "cell_type": "code",
   "execution_count": 8,
   "metadata": {},
   "outputs": [],
   "source": [
    "from keras.preprocessing import image                  \n",
    "from tqdm import tqdm\n",
    "\n",
    "def path_to_tensor(img_path):\n",
    "    # loads RGB image as PIL.Image.Image type\n",
    "    img = image.load_img(img_path, target_size=(224, 224))\n",
    "    # convert PIL.Image.Image type to 3D tensor with shape (224, 224, 3)\n",
    "    x = image.img_to_array(img)\n",
    "    # convert 3D tensor to 4D tensor with shape (1, 224, 224, 3) and return 4D tensor\n",
    "    return np.expand_dims(x, axis=0)\n",
    "\n",
    "def paths_to_tensor(img_paths):\n",
    "    list_of_tensors = [path_to_tensor(img_path) for img_path in tqdm(img_paths)]\n",
    "    return np.vstack(list_of_tensors)"
   ]
  },
  {
   "cell_type": "markdown",
   "metadata": {},
   "source": [
    "### Making Predictions with ResNet-50\n",
    "\n",
    "Getting the 4D tensor ready for ResNet-50, and for any other pre-trained model in Keras, requires some additional processing.  First, the RGB image is converted to BGR by reordering the channels.  All pre-trained models have the additional normalization step that the mean pixel (expressed in RGB as $[103.939, 116.779, 123.68]$ and calculated from all pixels in all images in ImageNet) must be subtracted from every pixel in each image.  This is implemented in the imported function `preprocess_input`.  If you're curious, you can check the code for `preprocess_input` [here](https://github.com/fchollet/keras/blob/master/keras/applications/imagenet_utils.py).\n",
    "\n",
    "Now that we have a way to format our image for supplying to ResNet-50, we are now ready to use the model to extract the predictions.  This is accomplished with the `predict` method, which returns an array whose $i$-th entry is the model's predicted probability that the image belongs to the $i$-th ImageNet category.  This is implemented in the `ResNet50_predict_labels` function below.\n",
    "\n",
    "By taking the argmax of the predicted probability vector, we obtain an integer corresponding to the model's predicted object class, which we can identify with an object category through the use of this [dictionary](https://gist.github.com/yrevar/942d3a0ac09ec9e5eb3a). "
   ]
  },
  {
   "cell_type": "code",
   "execution_count": 9,
   "metadata": {},
   "outputs": [],
   "source": [
    "from keras.applications.resnet50 import preprocess_input, decode_predictions\n",
    "\n",
    "def ResNet50_predict_labels(img_path):\n",
    "    # returns prediction vector for image located at img_path\n",
    "    img = preprocess_input(path_to_tensor(img_path))\n",
    "    return np.argmax(ResNet50_model.predict(img))"
   ]
  },
  {
   "cell_type": "markdown",
   "metadata": {},
   "source": [
    "### Write a Dog Detector\n",
    "\n",
    "While looking at the [dictionary](https://gist.github.com/yrevar/942d3a0ac09ec9e5eb3a), you will notice that the categories corresponding to dogs appear in an uninterrupted sequence and correspond to dictionary keys 151-268, inclusive, to include all categories from `'Chihuahua'` to `'Mexican hairless'`.  Thus, in order to check to see if an image is predicted to contain a dog by the pre-trained ResNet-50 model, we need only check if the `ResNet50_predict_labels` function above returns a value between 151 and 268 (inclusive).\n",
    "\n",
    "We use these ideas to complete the `dog_detector` function below, which returns `True` if a dog is detected in an image (and `False` if not)."
   ]
  },
  {
   "cell_type": "code",
   "execution_count": 10,
   "metadata": {},
   "outputs": [],
   "source": [
    "### returns \"True\" if a dog is detected in the image stored at img_path\n",
    "def dog_detector(img_path):\n",
    "    prediction = ResNet50_predict_labels(img_path)\n",
    "    return ((prediction <= 268) & (prediction >= 151)) "
   ]
  },
  {
   "cell_type": "markdown",
   "metadata": {},
   "source": [
    "### (IMPLEMENTATION) Assess the Dog Detector\n",
    "\n",
    "__Question 3:__ Use the code cell below to test the performance of your `dog_detector` function.  \n",
    "- What percentage of the images in `human_files_short` have a detected dog?  \n",
    "- What percentage of the images in `dog_files_short` have a detected dog?\n",
    "\n",
    "__Answer:__ "
   ]
  },
  {
   "cell_type": "code",
   "execution_count": 11,
   "metadata": {},
   "outputs": [
    {
     "name": "stdout",
     "output_type": "stream",
     "text": [
      "Dog detected in human files 1 %\n",
      "Dog detected in dog files 100 %\n"
     ]
    }
   ],
   "source": [
    "### TODO: Test the performance of the dog_detector function\n",
    "### on the images in human_files_short and dog_files_short.\n",
    "\n",
    "def count_dogs(files):\n",
    "    c = 0\n",
    "    for i in files:\n",
    "        if dog_detector(i):\n",
    "            c+=1\n",
    "    return c\n",
    "\n",
    "print(\"Dog detected in human files %d %%\"% count_dogs(human_files_short))\n",
    "print(\"Dog detected in dog files %d %%\"% count_dogs(dog_files_short))"
   ]
  },
  {
   "cell_type": "markdown",
   "metadata": {},
   "source": [
    "---\n",
    "<a id='step3'></a>\n",
    "## Step 3: Create a CNN to Classify Dog Breeds (from Scratch)\n",
    "\n",
    "Now that we have functions for detecting humans and dogs in images, we need a way to predict breed from images.  In this step, you will create a CNN that classifies dog breeds.  You must create your CNN _from scratch_ (so, you can't use transfer learning _yet_!), and you must attain a test accuracy of at least 1%.  In Step 5 of this notebook, you will have the opportunity to use transfer learning to create a CNN that attains greatly improved accuracy.\n",
    "\n",
    "Be careful with adding too many trainable layers!  More parameters means longer training, which means you are more likely to need a GPU to accelerate the training process.  Thankfully, Keras provides a handy estimate of the time that each epoch is likely to take; you can extrapolate this estimate to figure out how long it will take for your algorithm to train. \n",
    "\n",
    "We mention that the task of assigning breed to dogs from images is considered exceptionally challenging.  To see why, consider that *even a human* would have great difficulty in distinguishing between a Brittany and a Welsh Springer Spaniel.  \n",
    "\n",
    "Brittany | Welsh Springer Spaniel\n",
    "- | - \n",
    "<img src=\"images/Brittany_02625.jpg\" width=\"100\"> | <img src=\"images/Welsh_springer_spaniel_08203.jpg\" width=\"200\">\n",
    "\n",
    "It is not difficult to find other dog breed pairs with minimal inter-class variation (for instance, Curly-Coated Retrievers and American Water Spaniels).  \n",
    "\n",
    "Curly-Coated Retriever | American Water Spaniel\n",
    "- | -\n",
    "<img src=\"images/Curly-coated_retriever_03896.jpg\" width=\"200\"> | <img src=\"images/American_water_spaniel_00648.jpg\" width=\"200\">\n",
    "\n",
    "\n",
    "Likewise, recall that labradors come in yellow, chocolate, and black.  Your vision-based algorithm will have to conquer this high intra-class variation to determine how to classify all of these different shades as the same breed.  \n",
    "\n",
    "Yellow Labrador | Chocolate Labrador | Black Labrador\n",
    "- | -\n",
    "<img src=\"images/Labrador_retriever_06457.jpg\" width=\"150\"> | <img src=\"images/Labrador_retriever_06455.jpg\" width=\"240\"> | <img src=\"images/Labrador_retriever_06449.jpg\" width=\"220\">\n",
    "\n",
    "We also mention that random chance presents an exceptionally low bar: setting aside the fact that the classes are slightly imabalanced, a random guess will provide a correct answer roughly 1 in 133 times, which corresponds to an accuracy of less than 1%.  \n",
    "\n",
    "Remember that the practice is far ahead of the theory in deep learning.  Experiment with many different architectures, and trust your intuition.  And, of course, have fun! \n",
    "\n",
    "### Pre-process the Data\n",
    "\n",
    "We rescale the images by dividing every pixel in every image by 255."
   ]
  },
  {
   "cell_type": "code",
   "execution_count": 12,
   "metadata": {},
   "outputs": [
    {
     "name": "stderr",
     "output_type": "stream",
     "text": [
      "100%|██████████| 6680/6680 [00:57<00:00, 116.05it/s]\n",
      "100%|██████████| 835/835 [00:06<00:00, 131.30it/s]\n",
      "100%|██████████| 836/836 [00:06<00:00, 133.19it/s]\n"
     ]
    }
   ],
   "source": [
    "from PIL import ImageFile                            \n",
    "ImageFile.LOAD_TRUNCATED_IMAGES = True                 \n",
    "\n",
    "# pre-process the data for Keras\n",
    "train_tensors = paths_to_tensor(train_files).astype('float32')/255\n",
    "valid_tensors = paths_to_tensor(valid_files).astype('float32')/255\n",
    "test_tensors = paths_to_tensor(test_files).astype('float32')/255"
   ]
  },
  {
   "cell_type": "markdown",
   "metadata": {},
   "source": [
    "### (IMPLEMENTATION) Model Architecture\n",
    "\n",
    "Create a CNN to classify dog breed.  At the end of your code cell block, summarize the layers of your model by executing the line:\n",
    "    \n",
    "        model.summary()\n",
    "\n",
    "We have imported some Python modules to get you started, but feel free to import as many modules as you need.  If you end up getting stuck, here's a hint that specifies a model that trains relatively fast on CPU and attains >1% test accuracy in 5 epochs:\n",
    "\n",
    "![Sample CNN](images/sample_cnn.png)\n",
    "           \n",
    "__Question 4:__ Outline the steps you took to get to your final CNN architecture and your reasoning at each step.  If you chose to use the hinted architecture above, describe why you think that CNN architecture should work well for the image classification task.\n",
    "\n",
    "__Answer:__ "
   ]
  },
  {
   "cell_type": "code",
   "execution_count": 13,
   "metadata": {},
   "outputs": [
    {
     "name": "stdout",
     "output_type": "stream",
     "text": [
      "_________________________________________________________________\n",
      "Layer (type)                 Output Shape              Param #   \n",
      "=================================================================\n",
      "conv2d_1 (Conv2D)            (None, 223, 223, 16)      208       \n",
      "_________________________________________________________________\n",
      "max_pooling2d_2 (MaxPooling2 (None, 111, 111, 16)      0         \n",
      "_________________________________________________________________\n",
      "conv2d_2 (Conv2D)            (None, 110, 110, 32)      2080      \n",
      "_________________________________________________________________\n",
      "max_pooling2d_3 (MaxPooling2 (None, 55, 55, 32)        0         \n",
      "_________________________________________________________________\n",
      "conv2d_3 (Conv2D)            (None, 54, 54, 64)        8256      \n",
      "_________________________________________________________________\n",
      "max_pooling2d_4 (MaxPooling2 (None, 27, 27, 64)        0         \n",
      "_________________________________________________________________\n",
      "global_average_pooling2d_1 ( (None, 64)                0         \n",
      "_________________________________________________________________\n",
      "dense_1 (Dense)              (None, 133)               8645      \n",
      "=================================================================\n",
      "Total params: 19,189\n",
      "Trainable params: 19,189\n",
      "Non-trainable params: 0\n",
      "_________________________________________________________________\n"
     ]
    }
   ],
   "source": [
    "from keras.layers import Conv2D, MaxPooling2D, GlobalAveragePooling2D\n",
    "from keras.layers import Dropout, Flatten, Dense\n",
    "from keras.models import Sequential\n",
    "\n",
    "model = Sequential()\n",
    "\n",
    "### TODO: Define your architecture.\n",
    "model = Sequential()\n",
    "model.add(Conv2D(filters=16, kernel_size=2, padding='valid', activation='relu', input_shape=(224, 224, 3)))\n",
    "model.add(MaxPooling2D(pool_size=2))\n",
    "model.add(Conv2D(filters=32, kernel_size=2, padding='valid', activation='relu'))\n",
    "model.add(MaxPooling2D(pool_size=2))\n",
    "model.add(Conv2D(filters=64, kernel_size=2, padding='valid', activation='relu'))\n",
    "model.add(MaxPooling2D(pool_size=2))\n",
    "model.add(GlobalAveragePooling2D())\n",
    "model.add(Dense(133, activation='softmax'))\n",
    "model.summary()"
   ]
  },
  {
   "cell_type": "markdown",
   "metadata": {},
   "source": [
    "### Compile the Model"
   ]
  },
  {
   "cell_type": "code",
   "execution_count": 14,
   "metadata": {},
   "outputs": [],
   "source": [
    "model.compile(optimizer='rmsprop', loss='categorical_crossentropy', metrics=['accuracy'])"
   ]
  },
  {
   "cell_type": "markdown",
   "metadata": {},
   "source": [
    "### (IMPLEMENTATION) Train the Model\n",
    "\n",
    "Train your model in the code cell below.  Use model checkpointing to save the model that attains the best validation loss.\n",
    "\n",
    "You are welcome to [augment the training data](https://blog.keras.io/building-powerful-image-classification-models-using-very-little-data.html), but this is not a requirement. "
   ]
  },
  {
   "cell_type": "code",
   "execution_count": 18,
   "metadata": {},
   "outputs": [
    {
     "name": "stdout",
     "output_type": "stream",
     "text": [
      "Train on 6680 samples, validate on 835 samples\n",
      "Epoch 1/50\n",
      "6680/6680 [==============================] - 13s 2ms/step - loss: 4.3744 - acc: 0.0624 - val_loss: 4.5707 - val_acc: 0.0371\n",
      "\n",
      "Epoch 00001: val_loss improved from inf to 4.57072, saving model to saved_models/weights.best.from_scratch.hdf5\n",
      "Epoch 2/50\n",
      "6680/6680 [==============================] - 12s 2ms/step - loss: 4.3604 - acc: 0.0645 - val_loss: 4.4838 - val_acc: 0.0407\n",
      "\n",
      "Epoch 00002: val_loss improved from 4.57072 to 4.48377, saving model to saved_models/weights.best.from_scratch.hdf5\n",
      "Epoch 3/50\n",
      "6680/6680 [==============================] - 12s 2ms/step - loss: 4.3409 - acc: 0.0635 - val_loss: 4.4751 - val_acc: 0.0347\n",
      "\n",
      "Epoch 00003: val_loss improved from 4.48377 to 4.47508, saving model to saved_models/weights.best.from_scratch.hdf5\n",
      "Epoch 4/50\n",
      "6680/6680 [==============================] - 12s 2ms/step - loss: 4.3265 - acc: 0.0687 - val_loss: 4.4590 - val_acc: 0.0395\n",
      "\n",
      "Epoch 00004: val_loss improved from 4.47508 to 4.45902, saving model to saved_models/weights.best.from_scratch.hdf5\n",
      "Epoch 5/50\n",
      "6680/6680 [==============================] - 13s 2ms/step - loss: 4.3039 - acc: 0.0711 - val_loss: 4.5091 - val_acc: 0.0443\n",
      "\n",
      "Epoch 00005: val_loss did not improve from 4.45902\n",
      "Epoch 6/50\n",
      "6680/6680 [==============================] - 12s 2ms/step - loss: 4.2871 - acc: 0.0689 - val_loss: 4.4354 - val_acc: 0.0491\n",
      "\n",
      "Epoch 00006: val_loss improved from 4.45902 to 4.43537, saving model to saved_models/weights.best.from_scratch.hdf5\n",
      "Epoch 7/50\n",
      "6680/6680 [==============================] - 12s 2ms/step - loss: 4.2691 - acc: 0.0719 - val_loss: 4.4451 - val_acc: 0.0419\n",
      "\n",
      "Epoch 00007: val_loss did not improve from 4.43537\n",
      "Epoch 8/50\n",
      "6680/6680 [==============================] - 12s 2ms/step - loss: 4.2576 - acc: 0.0772 - val_loss: 4.4315 - val_acc: 0.0515\n",
      "\n",
      "Epoch 00008: val_loss improved from 4.43537 to 4.43151, saving model to saved_models/weights.best.from_scratch.hdf5\n",
      "Epoch 9/50\n",
      "6680/6680 [==============================] - 13s 2ms/step - loss: 4.2417 - acc: 0.0762 - val_loss: 4.3995 - val_acc: 0.0491\n",
      "\n",
      "Epoch 00009: val_loss improved from 4.43151 to 4.39951, saving model to saved_models/weights.best.from_scratch.hdf5\n",
      "Epoch 10/50\n",
      "6680/6680 [==============================] - 12s 2ms/step - loss: 4.2257 - acc: 0.0799 - val_loss: 4.3886 - val_acc: 0.0611\n",
      "\n",
      "Epoch 00010: val_loss improved from 4.39951 to 4.38855, saving model to saved_models/weights.best.from_scratch.hdf5\n",
      "Epoch 11/50\n",
      "6680/6680 [==============================] - 12s 2ms/step - loss: 4.2064 - acc: 0.0804 - val_loss: 4.3973 - val_acc: 0.0503\n",
      "\n",
      "Epoch 00011: val_loss did not improve from 4.38855\n",
      "Epoch 12/50\n",
      "6680/6680 [==============================] - 12s 2ms/step - loss: 4.1970 - acc: 0.0798 - val_loss: 4.3471 - val_acc: 0.0575\n",
      "\n",
      "Epoch 00012: val_loss improved from 4.38855 to 4.34705, saving model to saved_models/weights.best.from_scratch.hdf5\n",
      "Epoch 13/50\n",
      "6680/6680 [==============================] - 12s 2ms/step - loss: 4.1808 - acc: 0.0849 - val_loss: 4.4043 - val_acc: 0.0563\n",
      "\n",
      "Epoch 00013: val_loss did not improve from 4.34705\n",
      "Epoch 14/50\n",
      "6680/6680 [==============================] - 12s 2ms/step - loss: 4.1591 - acc: 0.0834 - val_loss: 4.3407 - val_acc: 0.0599\n",
      "\n",
      "Epoch 00014: val_loss improved from 4.34705 to 4.34072, saving model to saved_models/weights.best.from_scratch.hdf5\n",
      "Epoch 15/50\n",
      "6680/6680 [==============================] - 12s 2ms/step - loss: 4.1481 - acc: 0.0885 - val_loss: 4.3393 - val_acc: 0.0707\n",
      "\n",
      "Epoch 00015: val_loss improved from 4.34072 to 4.33933, saving model to saved_models/weights.best.from_scratch.hdf5\n",
      "Epoch 16/50\n",
      "6680/6680 [==============================] - 12s 2ms/step - loss: 4.1377 - acc: 0.0888 - val_loss: 4.3978 - val_acc: 0.0659\n",
      "\n",
      "Epoch 00016: val_loss did not improve from 4.33933\n",
      "Epoch 17/50\n",
      "6680/6680 [==============================] - 12s 2ms/step - loss: 4.1188 - acc: 0.0909 - val_loss: 4.3194 - val_acc: 0.0611\n",
      "\n",
      "Epoch 00017: val_loss improved from 4.33933 to 4.31944, saving model to saved_models/weights.best.from_scratch.hdf5\n",
      "Epoch 18/50\n",
      "6680/6680 [==============================] - 12s 2ms/step - loss: 4.1064 - acc: 0.0912 - val_loss: 4.4195 - val_acc: 0.0611\n",
      "\n",
      "Epoch 00018: val_loss did not improve from 4.31944\n",
      "Epoch 19/50\n",
      "6680/6680 [==============================] - 12s 2ms/step - loss: 4.1018 - acc: 0.0900 - val_loss: 4.3164 - val_acc: 0.0719\n",
      "\n",
      "Epoch 00019: val_loss improved from 4.31944 to 4.31639, saving model to saved_models/weights.best.from_scratch.hdf5\n",
      "Epoch 20/50\n",
      "6680/6680 [==============================] - 12s 2ms/step - loss: 4.0837 - acc: 0.0907 - val_loss: 4.3528 - val_acc: 0.0790\n",
      "\n",
      "Epoch 00020: val_loss did not improve from 4.31639\n",
      "Epoch 21/50\n",
      "6680/6680 [==============================] - 13s 2ms/step - loss: 4.0752 - acc: 0.0963 - val_loss: 4.2792 - val_acc: 0.0743\n",
      "\n",
      "Epoch 00021: val_loss improved from 4.31639 to 4.27920, saving model to saved_models/weights.best.from_scratch.hdf5\n",
      "Epoch 22/50\n",
      "6680/6680 [==============================] - 12s 2ms/step - loss: 4.0652 - acc: 0.0975 - val_loss: 4.2910 - val_acc: 0.0719\n",
      "\n",
      "Epoch 00022: val_loss did not improve from 4.27920\n",
      "Epoch 23/50\n",
      "6680/6680 [==============================] - 12s 2ms/step - loss: 4.0523 - acc: 0.0978 - val_loss: 4.2972 - val_acc: 0.0766\n",
      "\n",
      "Epoch 00023: val_loss did not improve from 4.27920\n",
      "Epoch 24/50\n",
      "6680/6680 [==============================] - 12s 2ms/step - loss: 4.0447 - acc: 0.1003 - val_loss: 4.3543 - val_acc: 0.0707\n",
      "\n",
      "Epoch 00024: val_loss did not improve from 4.27920\n",
      "Epoch 25/50\n",
      "6680/6680 [==============================] - 12s 2ms/step - loss: 4.0315 - acc: 0.1042 - val_loss: 4.3083 - val_acc: 0.0707\n",
      "\n",
      "Epoch 00025: val_loss did not improve from 4.27920\n",
      "Epoch 26/50\n",
      "6680/6680 [==============================] - 12s 2ms/step - loss: 4.0239 - acc: 0.1030 - val_loss: 4.2707 - val_acc: 0.0922\n",
      "\n",
      "Epoch 00026: val_loss improved from 4.27920 to 4.27071, saving model to saved_models/weights.best.from_scratch.hdf5\n",
      "Epoch 27/50\n",
      "6680/6680 [==============================] - 12s 2ms/step - loss: 4.0167 - acc: 0.1060 - val_loss: 4.3944 - val_acc: 0.0635\n",
      "\n",
      "Epoch 00027: val_loss did not improve from 4.27071\n",
      "Epoch 28/50\n",
      "6680/6680 [==============================] - 12s 2ms/step - loss: 4.0022 - acc: 0.1033 - val_loss: 4.2711 - val_acc: 0.0874\n",
      "\n",
      "Epoch 00028: val_loss did not improve from 4.27071\n",
      "Epoch 29/50\n",
      "6680/6680 [==============================] - 12s 2ms/step - loss: 3.9999 - acc: 0.1030 - val_loss: 4.2439 - val_acc: 0.0862\n",
      "\n",
      "Epoch 00029: val_loss improved from 4.27071 to 4.24393, saving model to saved_models/weights.best.from_scratch.hdf5\n",
      "Epoch 30/50\n",
      "6680/6680 [==============================] - 12s 2ms/step - loss: 3.9861 - acc: 0.1090 - val_loss: 4.2202 - val_acc: 0.0886\n",
      "\n",
      "Epoch 00030: val_loss improved from 4.24393 to 4.22019, saving model to saved_models/weights.best.from_scratch.hdf5\n",
      "Epoch 31/50\n",
      "6680/6680 [==============================] - 12s 2ms/step - loss: 3.9772 - acc: 0.1121 - val_loss: 4.2517 - val_acc: 0.0886\n",
      "\n",
      "Epoch 00031: val_loss did not improve from 4.22019\n",
      "Epoch 32/50\n",
      "6680/6680 [==============================] - 12s 2ms/step - loss: 3.9678 - acc: 0.1133 - val_loss: 4.1976 - val_acc: 0.0886\n",
      "\n",
      "Epoch 00032: val_loss improved from 4.22019 to 4.19758, saving model to saved_models/weights.best.from_scratch.hdf5\n",
      "Epoch 33/50\n",
      "6680/6680 [==============================] - 12s 2ms/step - loss: 3.9574 - acc: 0.1121 - val_loss: 4.2006 - val_acc: 0.1018\n",
      "\n",
      "Epoch 00033: val_loss did not improve from 4.19758\n",
      "Epoch 34/50\n",
      "6680/6680 [==============================] - 13s 2ms/step - loss: 3.9466 - acc: 0.1180 - val_loss: 4.2210 - val_acc: 0.0874\n",
      "\n",
      "Epoch 00034: val_loss did not improve from 4.19758\n",
      "Epoch 35/50\n",
      "6680/6680 [==============================] - 12s 2ms/step - loss: 3.9404 - acc: 0.1199 - val_loss: 4.2426 - val_acc: 0.0850\n",
      "\n",
      "Epoch 00035: val_loss did not improve from 4.19758\n",
      "Epoch 36/50\n",
      "6680/6680 [==============================] - 13s 2ms/step - loss: 3.9297 - acc: 0.1147 - val_loss: 4.2437 - val_acc: 0.0754\n",
      "\n",
      "Epoch 00036: val_loss did not improve from 4.19758\n",
      "Epoch 37/50\n",
      "6680/6680 [==============================] - 12s 2ms/step - loss: 3.9225 - acc: 0.1216 - val_loss: 4.1871 - val_acc: 0.0982\n",
      "\n",
      "Epoch 00037: val_loss improved from 4.19758 to 4.18712, saving model to saved_models/weights.best.from_scratch.hdf5\n",
      "Epoch 38/50\n"
     ]
    },
    {
     "name": "stdout",
     "output_type": "stream",
     "text": [
      "6680/6680 [==============================] - 13s 2ms/step - loss: 3.9130 - acc: 0.1166 - val_loss: 4.1790 - val_acc: 0.0934\n",
      "\n",
      "Epoch 00038: val_loss improved from 4.18712 to 4.17896, saving model to saved_models/weights.best.from_scratch.hdf5\n",
      "Epoch 39/50\n",
      "6680/6680 [==============================] - 12s 2ms/step - loss: 3.8979 - acc: 0.1187 - val_loss: 4.1541 - val_acc: 0.0958\n",
      "\n",
      "Epoch 00039: val_loss improved from 4.17896 to 4.15413, saving model to saved_models/weights.best.from_scratch.hdf5\n",
      "Epoch 40/50\n",
      "6680/6680 [==============================] - 12s 2ms/step - loss: 3.8975 - acc: 0.1189 - val_loss: 4.1586 - val_acc: 0.0982\n",
      "\n",
      "Epoch 00040: val_loss did not improve from 4.15413\n",
      "Epoch 41/50\n",
      "6680/6680 [==============================] - 12s 2ms/step - loss: 3.8913 - acc: 0.1210 - val_loss: 4.2828 - val_acc: 0.0898\n",
      "\n",
      "Epoch 00041: val_loss did not improve from 4.15413\n",
      "Epoch 42/50\n",
      "6680/6680 [==============================] - 12s 2ms/step - loss: 3.8807 - acc: 0.1240 - val_loss: 4.2126 - val_acc: 0.0946\n",
      "\n",
      "Epoch 00042: val_loss did not improve from 4.15413\n",
      "Epoch 43/50\n",
      "6680/6680 [==============================] - 12s 2ms/step - loss: 3.8651 - acc: 0.1275 - val_loss: 4.1513 - val_acc: 0.1018\n",
      "\n",
      "Epoch 00043: val_loss improved from 4.15413 to 4.15128, saving model to saved_models/weights.best.from_scratch.hdf5\n",
      "Epoch 44/50\n",
      "6680/6680 [==============================] - 12s 2ms/step - loss: 3.8627 - acc: 0.1257 - val_loss: 4.2038 - val_acc: 0.1018\n",
      "\n",
      "Epoch 00044: val_loss did not improve from 4.15128\n",
      "Epoch 45/50\n",
      "6680/6680 [==============================] - 12s 2ms/step - loss: 3.8557 - acc: 0.1310 - val_loss: 4.1374 - val_acc: 0.0982\n",
      "\n",
      "Epoch 00045: val_loss improved from 4.15128 to 4.13744, saving model to saved_models/weights.best.from_scratch.hdf5\n",
      "Epoch 46/50\n",
      "6680/6680 [==============================] - 12s 2ms/step - loss: 3.8490 - acc: 0.1307 - val_loss: 4.2009 - val_acc: 0.0874\n",
      "\n",
      "Epoch 00046: val_loss did not improve from 4.13744\n",
      "Epoch 47/50\n",
      "6680/6680 [==============================] - 12s 2ms/step - loss: 3.8386 - acc: 0.1329 - val_loss: 4.1490 - val_acc: 0.0994\n",
      "\n",
      "Epoch 00047: val_loss did not improve from 4.13744\n",
      "Epoch 48/50\n",
      "6680/6680 [==============================] - 12s 2ms/step - loss: 3.8328 - acc: 0.1313 - val_loss: 4.1117 - val_acc: 0.1066\n",
      "\n",
      "Epoch 00048: val_loss improved from 4.13744 to 4.11171, saving model to saved_models/weights.best.from_scratch.hdf5\n",
      "Epoch 49/50\n",
      "6680/6680 [==============================] - 12s 2ms/step - loss: 3.8244 - acc: 0.1383 - val_loss: 4.1418 - val_acc: 0.1114\n",
      "\n",
      "Epoch 00049: val_loss did not improve from 4.11171\n",
      "Epoch 50/50\n",
      "6680/6680 [==============================] - 12s 2ms/step - loss: 3.8135 - acc: 0.1365 - val_loss: 4.1756 - val_acc: 0.1114\n",
      "\n",
      "Epoch 00050: val_loss did not improve from 4.11171\n"
     ]
    },
    {
     "data": {
      "text/plain": [
       "<keras.callbacks.History at 0x7fef28dcd0b8>"
      ]
     },
     "execution_count": 18,
     "metadata": {},
     "output_type": "execute_result"
    }
   ],
   "source": [
    "from keras.callbacks import ModelCheckpoint  \n",
    "\n",
    "### TODO: specify the number of epochs that you would like to use to train the model.\n",
    "\n",
    "epochs = 50\n",
    "\n",
    "### Do NOT modify the code below this line.\n",
    "\n",
    "checkpointer = ModelCheckpoint(filepath='saved_models/weights.best.from_scratch.hdf5', \n",
    "                               verbose=1, save_best_only=True)\n",
    "\n",
    "model.fit(train_tensors, train_targets, \n",
    "          validation_data=(valid_tensors, valid_targets),\n",
    "          epochs=epochs, batch_size=20, callbacks=[checkpointer], verbose=1)"
   ]
  },
  {
   "cell_type": "markdown",
   "metadata": {},
   "source": [
    "### Load the Model with the Best Validation Loss"
   ]
  },
  {
   "cell_type": "code",
   "execution_count": 19,
   "metadata": {},
   "outputs": [],
   "source": [
    "model.load_weights('saved_models/weights.best.from_scratch.hdf5')"
   ]
  },
  {
   "cell_type": "markdown",
   "metadata": {},
   "source": [
    "### Test the Model\n",
    "\n",
    "Try out your model on the test dataset of dog images.  Ensure that your test accuracy is greater than 1%."
   ]
  },
  {
   "cell_type": "code",
   "execution_count": 20,
   "metadata": {},
   "outputs": [
    {
     "name": "stdout",
     "output_type": "stream",
     "text": [
      "Test accuracy: 10.4067%\n"
     ]
    }
   ],
   "source": [
    "# get index of predicted dog breed for each image in test set\n",
    "dog_breed_predictions = [np.argmax(model.predict(np.expand_dims(tensor, axis=0))) for tensor in test_tensors]\n",
    "\n",
    "# report test accuracy\n",
    "test_accuracy = 100*np.sum(np.array(dog_breed_predictions)==np.argmax(test_targets, axis=1))/len(dog_breed_predictions)\n",
    "print('Test accuracy: %.4f%%' % test_accuracy)"
   ]
  },
  {
   "cell_type": "markdown",
   "metadata": {},
   "source": [
    "---\n",
    "<a id='step4'></a>\n",
    "## Step 4: Use a CNN to Classify Dog Breeds\n",
    "\n",
    "To reduce training time without sacrificing accuracy, we show you how to train a CNN using transfer learning.  In the following step, you will get a chance to use transfer learning to train your own CNN.\n",
    "\n",
    "### Obtain Bottleneck Features"
   ]
  },
  {
   "cell_type": "code",
   "execution_count": 21,
   "metadata": {},
   "outputs": [],
   "source": [
    "bottleneck_features = np.load('bottleneck_features/DogVGG16Data.npz')\n",
    "train_VGG16 = bottleneck_features['train']\n",
    "valid_VGG16 = bottleneck_features['valid']\n",
    "test_VGG16 = bottleneck_features['test']"
   ]
  },
  {
   "cell_type": "markdown",
   "metadata": {},
   "source": [
    "### Model Architecture\n",
    "\n",
    "The model uses the the pre-trained VGG-16 model as a fixed feature extractor, where the last convolutional output of VGG-16 is fed as input to our model.  We only add a global average pooling layer and a fully connected layer, where the latter contains one node for each dog category and is equipped with a softmax."
   ]
  },
  {
   "cell_type": "code",
   "execution_count": 22,
   "metadata": {},
   "outputs": [
    {
     "name": "stdout",
     "output_type": "stream",
     "text": [
      "_________________________________________________________________\n",
      "Layer (type)                 Output Shape              Param #   \n",
      "=================================================================\n",
      "global_average_pooling2d_2 ( (None, 512)               0         \n",
      "_________________________________________________________________\n",
      "dense_2 (Dense)              (None, 133)               68229     \n",
      "=================================================================\n",
      "Total params: 68,229\n",
      "Trainable params: 68,229\n",
      "Non-trainable params: 0\n",
      "_________________________________________________________________\n"
     ]
    }
   ],
   "source": [
    "VGG16_model = Sequential()\n",
    "VGG16_model.add(GlobalAveragePooling2D(input_shape=train_VGG16.shape[1:]))\n",
    "VGG16_model.add(Dense(133, activation='softmax'))\n",
    "\n",
    "VGG16_model.summary()"
   ]
  },
  {
   "cell_type": "markdown",
   "metadata": {},
   "source": [
    "### Compile the Model"
   ]
  },
  {
   "cell_type": "code",
   "execution_count": 23,
   "metadata": {},
   "outputs": [],
   "source": [
    "VGG16_model.compile(loss='categorical_crossentropy', optimizer='rmsprop', metrics=['accuracy'])"
   ]
  },
  {
   "cell_type": "markdown",
   "metadata": {},
   "source": [
    "### Train the Model"
   ]
  },
  {
   "cell_type": "code",
   "execution_count": 24,
   "metadata": {},
   "outputs": [
    {
     "name": "stdout",
     "output_type": "stream",
     "text": [
      "Train on 6680 samples, validate on 835 samples\n",
      "Epoch 1/20\n",
      "6680/6680 [==============================] - 2s 345us/step - loss: 12.2622 - acc: 0.1225 - val_loss: 10.6536 - val_acc: 0.2084\n",
      "\n",
      "Epoch 00001: val_loss improved from inf to 10.65364, saving model to saved_models/weights.best.VGG16.hdf5\n",
      "Epoch 2/20\n",
      "6680/6680 [==============================] - 1s 191us/step - loss: 9.7513 - acc: 0.2876 - val_loss: 9.4183 - val_acc: 0.2922\n",
      "\n",
      "Epoch 00002: val_loss improved from 10.65364 to 9.41833, saving model to saved_models/weights.best.VGG16.hdf5\n",
      "Epoch 3/20\n",
      "6680/6680 [==============================] - 1s 191us/step - loss: 8.6520 - acc: 0.3726 - val_loss: 8.9117 - val_acc: 0.3509\n",
      "\n",
      "Epoch 00003: val_loss improved from 9.41833 to 8.91170, saving model to saved_models/weights.best.VGG16.hdf5\n",
      "Epoch 4/20\n",
      "6680/6680 [==============================] - 1s 191us/step - loss: 8.2343 - acc: 0.4251 - val_loss: 8.6795 - val_acc: 0.3593\n",
      "\n",
      "Epoch 00004: val_loss improved from 8.91170 to 8.67955, saving model to saved_models/weights.best.VGG16.hdf5\n",
      "Epoch 5/20\n",
      "6680/6680 [==============================] - 1s 191us/step - loss: 7.9697 - acc: 0.4581 - val_loss: 8.5827 - val_acc: 0.3749\n",
      "\n",
      "Epoch 00005: val_loss improved from 8.67955 to 8.58272, saving model to saved_models/weights.best.VGG16.hdf5\n",
      "Epoch 6/20\n",
      "6680/6680 [==============================] - 1s 191us/step - loss: 7.8494 - acc: 0.4708 - val_loss: 8.4563 - val_acc: 0.3808\n",
      "\n",
      "Epoch 00006: val_loss improved from 8.58272 to 8.45634, saving model to saved_models/weights.best.VGG16.hdf5\n",
      "Epoch 7/20\n",
      "6680/6680 [==============================] - 1s 190us/step - loss: 7.6474 - acc: 0.4916 - val_loss: 8.3619 - val_acc: 0.4000\n",
      "\n",
      "Epoch 00007: val_loss improved from 8.45634 to 8.36186, saving model to saved_models/weights.best.VGG16.hdf5\n",
      "Epoch 8/20\n",
      "6680/6680 [==============================] - 1s 192us/step - loss: 7.5253 - acc: 0.5043 - val_loss: 8.2193 - val_acc: 0.4060\n",
      "\n",
      "Epoch 00008: val_loss improved from 8.36186 to 8.21925, saving model to saved_models/weights.best.VGG16.hdf5\n",
      "Epoch 9/20\n",
      "6680/6680 [==============================] - 1s 192us/step - loss: 7.3678 - acc: 0.5162 - val_loss: 8.1092 - val_acc: 0.4132\n",
      "\n",
      "Epoch 00009: val_loss improved from 8.21925 to 8.10921, saving model to saved_models/weights.best.VGG16.hdf5\n",
      "Epoch 10/20\n",
      "6680/6680 [==============================] - 1s 192us/step - loss: 7.2173 - acc: 0.5293 - val_loss: 7.9596 - val_acc: 0.4228\n",
      "\n",
      "Epoch 00010: val_loss improved from 8.10921 to 7.95962, saving model to saved_models/weights.best.VGG16.hdf5\n",
      "Epoch 11/20\n",
      "6680/6680 [==============================] - 1s 190us/step - loss: 7.1580 - acc: 0.5403 - val_loss: 8.0006 - val_acc: 0.4204\n",
      "\n",
      "Epoch 00011: val_loss did not improve from 7.95962\n",
      "Epoch 12/20\n",
      "6680/6680 [==============================] - 1s 191us/step - loss: 7.1224 - acc: 0.5458 - val_loss: 7.9430 - val_acc: 0.4251\n",
      "\n",
      "Epoch 00012: val_loss improved from 7.95962 to 7.94299, saving model to saved_models/weights.best.VGG16.hdf5\n",
      "Epoch 13/20\n",
      "6680/6680 [==============================] - 1s 192us/step - loss: 7.0553 - acc: 0.5515 - val_loss: 7.8538 - val_acc: 0.4431\n",
      "\n",
      "Epoch 00013: val_loss improved from 7.94299 to 7.85375, saving model to saved_models/weights.best.VGG16.hdf5\n",
      "Epoch 14/20\n",
      "6680/6680 [==============================] - 1s 191us/step - loss: 7.0084 - acc: 0.5533 - val_loss: 7.7572 - val_acc: 0.4467\n",
      "\n",
      "Epoch 00014: val_loss improved from 7.85375 to 7.75721, saving model to saved_models/weights.best.VGG16.hdf5\n",
      "Epoch 15/20\n",
      "6680/6680 [==============================] - 1s 191us/step - loss: 6.9251 - acc: 0.5566 - val_loss: 7.8088 - val_acc: 0.4335\n",
      "\n",
      "Epoch 00015: val_loss did not improve from 7.75721\n",
      "Epoch 16/20\n",
      "6680/6680 [==============================] - 1s 191us/step - loss: 6.8252 - acc: 0.5627 - val_loss: 7.7265 - val_acc: 0.4395\n",
      "\n",
      "Epoch 00016: val_loss improved from 7.75721 to 7.72652, saving model to saved_models/weights.best.VGG16.hdf5\n",
      "Epoch 17/20\n",
      "6680/6680 [==============================] - 1s 189us/step - loss: 6.7696 - acc: 0.5687 - val_loss: 7.6137 - val_acc: 0.4479\n",
      "\n",
      "Epoch 00017: val_loss improved from 7.72652 to 7.61372, saving model to saved_models/weights.best.VGG16.hdf5\n",
      "Epoch 18/20\n",
      "6680/6680 [==============================] - 1s 191us/step - loss: 6.7382 - acc: 0.5708 - val_loss: 7.6318 - val_acc: 0.4587\n",
      "\n",
      "Epoch 00018: val_loss did not improve from 7.61372\n",
      "Epoch 19/20\n",
      "6680/6680 [==============================] - 1s 191us/step - loss: 6.6628 - acc: 0.5737 - val_loss: 7.5823 - val_acc: 0.4431\n",
      "\n",
      "Epoch 00019: val_loss improved from 7.61372 to 7.58232, saving model to saved_models/weights.best.VGG16.hdf5\n",
      "Epoch 20/20\n",
      "6680/6680 [==============================] - 1s 193us/step - loss: 6.6100 - acc: 0.5813 - val_loss: 7.5442 - val_acc: 0.4599\n",
      "\n",
      "Epoch 00020: val_loss improved from 7.58232 to 7.54417, saving model to saved_models/weights.best.VGG16.hdf5\n"
     ]
    },
    {
     "data": {
      "text/plain": [
       "<keras.callbacks.History at 0x7fef28d588d0>"
      ]
     },
     "execution_count": 24,
     "metadata": {},
     "output_type": "execute_result"
    }
   ],
   "source": [
    "checkpointer = ModelCheckpoint(filepath='saved_models/weights.best.VGG16.hdf5', \n",
    "                               verbose=1, save_best_only=True)\n",
    "\n",
    "VGG16_model.fit(train_VGG16, train_targets, \n",
    "          validation_data=(valid_VGG16, valid_targets),\n",
    "          epochs=20, batch_size=20, callbacks=[checkpointer], verbose=1)"
   ]
  },
  {
   "cell_type": "markdown",
   "metadata": {},
   "source": [
    "### Load the Model with the Best Validation Loss"
   ]
  },
  {
   "cell_type": "code",
   "execution_count": 25,
   "metadata": {},
   "outputs": [],
   "source": [
    "VGG16_model.load_weights('saved_models/weights.best.VGG16.hdf5')"
   ]
  },
  {
   "cell_type": "markdown",
   "metadata": {},
   "source": [
    "### Test the Model\n",
    "\n",
    "Now, we can use the CNN to test how well it identifies breed within our test dataset of dog images.  We print the test accuracy below."
   ]
  },
  {
   "cell_type": "code",
   "execution_count": 26,
   "metadata": {},
   "outputs": [
    {
     "name": "stdout",
     "output_type": "stream",
     "text": [
      "Test accuracy: 46.0526%\n"
     ]
    }
   ],
   "source": [
    "# get index of predicted dog breed for each image in test set\n",
    "VGG16_predictions = [np.argmax(VGG16_model.predict(np.expand_dims(feature, axis=0))) for feature in test_VGG16]\n",
    "\n",
    "# report test accuracy\n",
    "test_accuracy = 100*np.sum(np.array(VGG16_predictions)==np.argmax(test_targets, axis=1))/len(VGG16_predictions)\n",
    "print('Test accuracy: %.4f%%' % test_accuracy)"
   ]
  },
  {
   "cell_type": "markdown",
   "metadata": {},
   "source": [
    "### Predict Dog Breed with the Model"
   ]
  },
  {
   "cell_type": "code",
   "execution_count": 27,
   "metadata": {},
   "outputs": [],
   "source": [
    "from extract_bottleneck_features import *\n",
    "\n",
    "def VGG16_predict_breed(img_path):\n",
    "    # extract bottleneck features\n",
    "    bottleneck_feature = extract_VGG16(path_to_tensor(img_path))\n",
    "    # obtain predicted vector\n",
    "    predicted_vector = VGG16_model.predict(bottleneck_feature)\n",
    "    # return dog breed that is predicted by the model\n",
    "    return dog_names[np.argmax(predicted_vector)]"
   ]
  },
  {
   "cell_type": "markdown",
   "metadata": {},
   "source": [
    "---\n",
    "<a id='step5'></a>\n",
    "## Step 5: Create a CNN to Classify Dog Breeds (using Transfer Learning)\n",
    "\n",
    "You will now use transfer learning to create a CNN that can identify dog breed from images.  Your CNN must attain at least 60% accuracy on the test set.\n",
    "\n",
    "In Step 4, we used transfer learning to create a CNN using VGG-16 bottleneck features.  In this section, you must use the bottleneck features from a different pre-trained model.  To make things easier for you, we have pre-computed the features for all of the networks that are currently available in Keras:\n",
    "- [VGG-19](https://s3-us-west-1.amazonaws.com/udacity-aind/dog-project/DogVGG19Data.npz) bottleneck features\n",
    "- [ResNet-50](https://s3-us-west-1.amazonaws.com/udacity-aind/dog-project/DogResnet50Data.npz) bottleneck features\n",
    "- [Inception](https://s3-us-west-1.amazonaws.com/udacity-aind/dog-project/DogInceptionV3Data.npz) bottleneck features\n",
    "- [Xception](https://s3-us-west-1.amazonaws.com/udacity-aind/dog-project/DogXceptionData.npz) bottleneck features\n",
    "\n",
    "The files are encoded as such:\n",
    "\n",
    "    Dog{network}Data.npz\n",
    "    \n",
    "where `{network}`, in the above filename, can be one of `VGG19`, `Resnet50`, `InceptionV3`, or `Xception`.  Pick one of the above architectures, download the corresponding bottleneck features, and store the downloaded file in the `bottleneck_features/` folder in the repository.\n",
    "\n",
    "### (IMPLEMENTATION) Obtain Bottleneck Features\n",
    "\n",
    "In the code block below, extract the bottleneck features corresponding to the train, test, and validation sets by running the following:\n",
    "\n",
    "    bottleneck_features = np.load('bottleneck_features/Dog{network}Data.npz')\n",
    "    train_{network} = bottleneck_features['train']\n",
    "    valid_{network} = bottleneck_features['valid']\n",
    "    test_{network} = bottleneck_features['test']"
   ]
  },
  {
   "cell_type": "code",
   "execution_count": 29,
   "metadata": {},
   "outputs": [],
   "source": [
    "### TODO: Obtain bottleneck features from another pre-trained CNN.\n",
    "bottleneck_features = np.load('bottleneck_features/DogResnet50Data.npz')\n",
    "train_Resnet50 = bottleneck_features['train']\n",
    "valid_Resnet50 = bottleneck_features['valid']\n",
    "test_Resnet50 = bottleneck_features['test']"
   ]
  },
  {
   "cell_type": "markdown",
   "metadata": {},
   "source": [
    "### (IMPLEMENTATION) Model Architecture\n",
    "\n",
    "Create a CNN to classify dog breed.  At the end of your code cell block, summarize the layers of your model by executing the line:\n",
    "    \n",
    "        <your model's name>.summary()\n",
    "   \n",
    "__Question 5:__ Outline the steps you took to get to your final CNN architecture and your reasoning at each step.  Describe why you think the architecture is suitable for the current problem.\n",
    "\n",
    "__Answer:__ \n",
    "\n"
   ]
  },
  {
   "cell_type": "code",
   "execution_count": 30,
   "metadata": {},
   "outputs": [
    {
     "name": "stdout",
     "output_type": "stream",
     "text": [
      "_________________________________________________________________\n",
      "Layer (type)                 Output Shape              Param #   \n",
      "=================================================================\n",
      "global_average_pooling2d_3 ( (None, 2048)              0         \n",
      "_________________________________________________________________\n",
      "dense_3 (Dense)              (None, 133)               272517    \n",
      "=================================================================\n",
      "Total params: 272,517\n",
      "Trainable params: 272,517\n",
      "Non-trainable params: 0\n",
      "_________________________________________________________________\n"
     ]
    }
   ],
   "source": [
    "### TODO: Define your architecture.\n",
    "Resnet50_model = Sequential()\n",
    "Resnet50_model.add(GlobalAveragePooling2D(input_shape=train_Resnet50.shape[1:]))\n",
    "Resnet50_model.add(Dense(133, activation='softmax'))\n",
    "\n",
    "Resnet50_model.summary()"
   ]
  },
  {
   "cell_type": "markdown",
   "metadata": {},
   "source": [
    "### (IMPLEMENTATION) Compile the Model"
   ]
  },
  {
   "cell_type": "code",
   "execution_count": 31,
   "metadata": {},
   "outputs": [],
   "source": [
    "### TODO: Compile the model.\n",
    "Resnet50_model.compile(loss='categorical_crossentropy', optimizer='rmsprop', metrics=['accuracy'])"
   ]
  },
  {
   "cell_type": "markdown",
   "metadata": {},
   "source": [
    "### (IMPLEMENTATION) Train the Model\n",
    "\n",
    "Train your model in the code cell below.  Use model checkpointing to save the model that attains the best validation loss.  \n",
    "\n",
    "You are welcome to [augment the training data](https://blog.keras.io/building-powerful-image-classification-models-using-very-little-data.html), but this is not a requirement. "
   ]
  },
  {
   "cell_type": "code",
   "execution_count": 32,
   "metadata": {},
   "outputs": [
    {
     "name": "stdout",
     "output_type": "stream",
     "text": [
      "Train on 6680 samples, validate on 835 samples\n",
      "Epoch 1/20\n",
      "6680/6680 [==============================] - 2s 333us/step - loss: 1.6171 - acc: 0.6000 - val_loss: 0.8596 - val_acc: 0.7353\n",
      "\n",
      "Epoch 00001: val_loss improved from inf to 0.85960, saving model to saved_models/weights.best.Resnet50.hdf5\n",
      "Epoch 2/20\n",
      "6680/6680 [==============================] - 1s 161us/step - loss: 0.4417 - acc: 0.8636 - val_loss: 0.7546 - val_acc: 0.7749\n",
      "\n",
      "Epoch 00002: val_loss improved from 0.85960 to 0.75460, saving model to saved_models/weights.best.Resnet50.hdf5\n",
      "Epoch 3/20\n",
      "6680/6680 [==============================] - 1s 161us/step - loss: 0.2736 - acc: 0.9141 - val_loss: 0.6557 - val_acc: 0.8120\n",
      "\n",
      "Epoch 00003: val_loss improved from 0.75460 to 0.65568, saving model to saved_models/weights.best.Resnet50.hdf5\n",
      "Epoch 4/20\n",
      "6680/6680 [==============================] - 1s 159us/step - loss: 0.1785 - acc: 0.9436 - val_loss: 0.7169 - val_acc: 0.8072\n",
      "\n",
      "Epoch 00004: val_loss did not improve from 0.65568\n",
      "Epoch 5/20\n",
      "6680/6680 [==============================] - 1s 159us/step - loss: 0.1246 - acc: 0.9632 - val_loss: 0.6850 - val_acc: 0.8168\n",
      "\n",
      "Epoch 00005: val_loss did not improve from 0.65568\n",
      "Epoch 6/20\n",
      "6680/6680 [==============================] - 1s 161us/step - loss: 0.0873 - acc: 0.9731 - val_loss: 0.6688 - val_acc: 0.8180\n",
      "\n",
      "Epoch 00006: val_loss did not improve from 0.65568\n",
      "Epoch 7/20\n",
      "6680/6680 [==============================] - 1s 160us/step - loss: 0.0656 - acc: 0.9792 - val_loss: 0.6980 - val_acc: 0.8204\n",
      "\n",
      "Epoch 00007: val_loss did not improve from 0.65568\n",
      "Epoch 8/20\n",
      "6680/6680 [==============================] - 1s 160us/step - loss: 0.0496 - acc: 0.9859 - val_loss: 0.7206 - val_acc: 0.8287\n",
      "\n",
      "Epoch 00008: val_loss did not improve from 0.65568\n",
      "Epoch 9/20\n",
      "6680/6680 [==============================] - 1s 160us/step - loss: 0.0368 - acc: 0.9900 - val_loss: 0.7450 - val_acc: 0.8311\n",
      "\n",
      "Epoch 00009: val_loss did not improve from 0.65568\n",
      "Epoch 10/20\n",
      "6680/6680 [==============================] - 1s 160us/step - loss: 0.0269 - acc: 0.9927 - val_loss: 0.7288 - val_acc: 0.8347\n",
      "\n",
      "Epoch 00010: val_loss did not improve from 0.65568\n",
      "Epoch 11/20\n",
      "6680/6680 [==============================] - 1s 161us/step - loss: 0.0197 - acc: 0.9954 - val_loss: 0.7275 - val_acc: 0.8192\n",
      "\n",
      "Epoch 00011: val_loss did not improve from 0.65568\n",
      "Epoch 12/20\n",
      "6680/6680 [==============================] - 1s 160us/step - loss: 0.0153 - acc: 0.9961 - val_loss: 0.7676 - val_acc: 0.8251\n",
      "\n",
      "Epoch 00012: val_loss did not improve from 0.65568\n",
      "Epoch 13/20\n",
      "6680/6680 [==============================] - 1s 160us/step - loss: 0.0141 - acc: 0.9964 - val_loss: 0.7700 - val_acc: 0.8383\n",
      "\n",
      "Epoch 00013: val_loss did not improve from 0.65568\n",
      "Epoch 14/20\n",
      "6680/6680 [==============================] - 1s 163us/step - loss: 0.0103 - acc: 0.9976 - val_loss: 0.8203 - val_acc: 0.8287\n",
      "\n",
      "Epoch 00014: val_loss did not improve from 0.65568\n",
      "Epoch 15/20\n",
      "6680/6680 [==============================] - 1s 161us/step - loss: 0.0093 - acc: 0.9972 - val_loss: 0.7789 - val_acc: 0.8299\n",
      "\n",
      "Epoch 00015: val_loss did not improve from 0.65568\n",
      "Epoch 16/20\n",
      "6680/6680 [==============================] - 1s 160us/step - loss: 0.0080 - acc: 0.9976 - val_loss: 0.8505 - val_acc: 0.8347\n",
      "\n",
      "Epoch 00016: val_loss did not improve from 0.65568\n",
      "Epoch 17/20\n",
      "6680/6680 [==============================] - 1s 162us/step - loss: 0.0071 - acc: 0.9987 - val_loss: 0.9007 - val_acc: 0.8240\n",
      "\n",
      "Epoch 00017: val_loss did not improve from 0.65568\n",
      "Epoch 18/20\n",
      "6680/6680 [==============================] - 1s 162us/step - loss: 0.0056 - acc: 0.9982 - val_loss: 0.8724 - val_acc: 0.8240\n",
      "\n",
      "Epoch 00018: val_loss did not improve from 0.65568\n",
      "Epoch 19/20\n",
      "6680/6680 [==============================] - 1s 161us/step - loss: 0.0064 - acc: 0.9988 - val_loss: 0.9273 - val_acc: 0.8287\n",
      "\n",
      "Epoch 00019: val_loss did not improve from 0.65568\n",
      "Epoch 20/20\n",
      "6680/6680 [==============================] - 1s 161us/step - loss: 0.0052 - acc: 0.9988 - val_loss: 0.9256 - val_acc: 0.8251\n",
      "\n",
      "Epoch 00020: val_loss did not improve from 0.65568\n"
     ]
    },
    {
     "data": {
      "text/plain": [
       "<keras.callbacks.History at 0x7fef28a44e80>"
      ]
     },
     "execution_count": 32,
     "metadata": {},
     "output_type": "execute_result"
    }
   ],
   "source": [
    "### TODO: Train the model.\n",
    "checkpointer = ModelCheckpoint(filepath='saved_models/weights.best.Resnet50.hdf5', \n",
    "                               verbose=1, save_best_only=True)\n",
    "\n",
    "Resnet50_model.fit(train_Resnet50, train_targets, \n",
    "          validation_data=(valid_Resnet50, valid_targets),\n",
    "          epochs=20, batch_size=20, callbacks=[checkpointer], verbose=1)"
   ]
  },
  {
   "cell_type": "markdown",
   "metadata": {},
   "source": [
    "### (IMPLEMENTATION) Load the Model with the Best Validation Loss"
   ]
  },
  {
   "cell_type": "code",
   "execution_count": 33,
   "metadata": {},
   "outputs": [],
   "source": [
    "### TODO: Load the model weights with the best validation loss.\n",
    "Resnet50_model.load_weights('saved_models/weights.best.Resnet50.hdf5')"
   ]
  },
  {
   "cell_type": "markdown",
   "metadata": {},
   "source": [
    "### (IMPLEMENTATION) Test the Model\n",
    "\n",
    "Try out your model on the test dataset of dog images. Ensure that your test accuracy is greater than 60%."
   ]
  },
  {
   "cell_type": "code",
   "execution_count": 34,
   "metadata": {},
   "outputs": [
    {
     "name": "stdout",
     "output_type": "stream",
     "text": [
      "Test accuracy: 80.5024%\n"
     ]
    }
   ],
   "source": [
    "### TODO: Calculate classification accuracy on the test dataset.\n",
    "Resnet50_predictions = [np.argmax(Resnet50_model.predict(np.expand_dims(feature, axis=0))) for feature in test_Resnet50]\n",
    "\n",
    "# report test accuracy\n",
    "test_accuracy = 100*np.sum(np.array(Resnet50_predictions)==np.argmax(test_targets, axis=1))/len(Resnet50_predictions)\n",
    "print('Test accuracy: %.4f%%' % test_accuracy)"
   ]
  },
  {
   "cell_type": "markdown",
   "metadata": {},
   "source": [
    "### (IMPLEMENTATION) Predict Dog Breed with the Model\n",
    "\n",
    "Write a function that takes an image path as input and returns the dog breed (`Affenpinscher`, `Afghan_hound`, etc) that is predicted by your model.  \n",
    "\n",
    "Similar to the analogous function in Step 5, your function should have three steps:\n",
    "1. Extract the bottleneck features corresponding to the chosen CNN model.\n",
    "2. Supply the bottleneck features as input to the model to return the predicted vector.  Note that the argmax of this prediction vector gives the index of the predicted dog breed.\n",
    "3. Use the `dog_names` array defined in Step 0 of this notebook to return the corresponding breed.\n",
    "\n",
    "The functions to extract the bottleneck features can be found in `extract_bottleneck_features.py`, and they have been imported in an earlier code cell.  To obtain the bottleneck features corresponding to your chosen CNN architecture, you need to use the function\n",
    "\n",
    "    extract_{network}\n",
    "    \n",
    "where `{network}`, in the above filename, should be one of `VGG19`, `Resnet50`, `InceptionV3`, or `Xception`."
   ]
  },
  {
   "cell_type": "code",
   "execution_count": 35,
   "metadata": {},
   "outputs": [],
   "source": [
    "### TODO: Write a function that takes a path to an image as input\n",
    "### and returns the dog breed that is predicted by the model.\n",
    "\n",
    "def Resnet50_predict_breed(img_path):\n",
    "    # extract bottleneck features\n",
    "    bottleneck_feature = extract_Resnet50(path_to_tensor(img_path))\n",
    "    # obtain predicted vector\n",
    "    predicted_vector = Resnet50_model.predict(bottleneck_feature)\n",
    "    # return dog breed that is predicted by the model\n",
    "    return dog_names[np.argmax(predicted_vector)]"
   ]
  },
  {
   "cell_type": "markdown",
   "metadata": {},
   "source": [
    "---\n",
    "<a id='step6'></a>\n",
    "## Step 6: Write your Algorithm\n",
    "\n",
    "Write an algorithm that accepts a file path to an image and first determines whether the image contains a human, dog, or neither.  Then,\n",
    "- if a __dog__ is detected in the image, return the predicted breed.\n",
    "- if a __human__ is detected in the image, return the resembling dog breed.\n",
    "- if __neither__ is detected in the image, provide output that indicates an error.\n",
    "\n",
    "You are welcome to write your own functions for detecting humans and dogs in images, but feel free to use the `face_detector` and `dog_detector` functions developed above.  You are __required__ to use your CNN from Step 5 to predict dog breed.  \n",
    "\n",
    "Some sample output for our algorithm is provided below, but feel free to design your own user experience!\n",
    "\n",
    "![Sample Human Output](images/sample_human_output.png)\n",
    "\n",
    "\n",
    "### (IMPLEMENTATION) Write your Algorithm"
   ]
  },
  {
   "cell_type": "code",
   "execution_count": 36,
   "metadata": {},
   "outputs": [],
   "source": [
    "### TODO: Write your algorithm.\n",
    "### Feel free to use as many code cells as needed.\n",
    "\n",
    "# First test out with the use of the transfer model obtained with Resnet50\n",
    "def detect_withResnet(filepath):\n",
    "    if dog_detector(filepath):\n",
    "        return \"Dog detected to be of breed \"+ Resnet50_predict_breed(filepath)\n",
    "    elif face_detector(filepath):\n",
    "        return \"A face is detected to resemble dog breed \" + Resnet50_predict_breed(filepath)\n",
    "    else:\n",
    "        return \"no face or dog is detected\"\n",
    "\n",
    "def myCNN_predict_breed(filepath):\n",
    "    # extract features\n",
    "    features = np.expand_dims(path_to_tensor(filepath), axis = 0)\n",
    "    # obtain predicted vector\n",
    "    predicted_vector = model.predict(features)\n",
    "    # return dog breed that is predicted by the model\n",
    "    return dog_names[np.argmax(predicted_vector)]\n",
    "    \n",
    "# Use own scratch CNN to predict breed\n",
    "def detect_withmyCNN(filepath):\n",
    "    if dog_detector(filepath):\n",
    "        return \"Dog detected to be of breed \"+ myCNN_predict_breed(filepath)\n",
    "    elif face_detector(filepath):\n",
    "        return \"A face is detected to resemble dog breed \" + myCNN_predict_breed(filepath)\n",
    "    else:\n",
    "        return \"no face or dog is detected\"\n",
    "    "
   ]
  },
  {
   "cell_type": "markdown",
   "metadata": {},
   "source": [
    "---\n",
    "<a id='step7'></a>\n",
    "## Step 7: Test Your Algorithm\n",
    "\n",
    "In this section, you will take your new algorithm for a spin!  What kind of dog does the algorithm think that __you__ look like?  If you have a dog, does it predict your dog's breed accurately?  If you have a cat, does it mistakenly think that your cat is a dog?\n",
    "\n",
    "### (IMPLEMENTATION) Test Your Algorithm on Sample Images!\n",
    "\n",
    "Test your algorithm at least six images on your computer.  Feel free to use any images you like.  Use at least two human and two dog images.  \n",
    "\n",
    "__Question 6:__ Is the output better than you expected :) ?  Or worse :( ?  Provide at least three possible points of improvement for your algorithm.\n",
    "\n",
    "__Answer:__ "
   ]
  },
  {
   "cell_type": "code",
   "execution_count": 46,
   "metadata": {},
   "outputs": [
    {
     "data": {
      "text/plain": [
       "'no face or dog is detected'"
      ]
     },
     "execution_count": 46,
     "metadata": {},
     "output_type": "execute_result"
    }
   ],
   "source": [
    "## TODO: Execute your algorithm from Step 6 on\n",
    "## at least 6 images on your computer.\n",
    "## Feel free to use as many code cells as needed.\n",
    "detect_withmyCNN(\"images/sample_dog_output.png\")"
   ]
  },
  {
   "cell_type": "code",
   "execution_count": 39,
   "metadata": {},
   "outputs": [
    {
     "data": {
      "text/plain": [
       "'no face or dog is detected'"
      ]
     },
     "execution_count": 39,
     "metadata": {},
     "output_type": "execute_result"
    }
   ],
   "source": [
    "## TODO: Execute your algorithm from Step 6 on\n",
    "## at least 6 images on your computer.\n",
    "## Feel free to use as many code cells as needed.\n",
    "detect_withResnet(\"images/sample_dog_output.png\")"
   ]
  },
  {
   "cell_type": "code",
   "execution_count": 47,
   "metadata": {},
   "outputs": [
    {
     "name": "stdout",
     "output_type": "stream",
     "text": [
      "images/sample_cnn.png\n",
      "images/sample_dog_output.png\n",
      "images/sample_human_output.png\n"
     ]
    },
    {
     "ename": "ValueError",
     "evalue": "Error when checking input: expected conv2d_1_input to have 4 dimensions, but got array with shape (1, 1, 224, 224, 3)",
     "output_type": "error",
     "traceback": [
      "\u001b[0;31m---------------------------------------------------------------------------\u001b[0m",
      "\u001b[0;31mValueError\u001b[0m                                Traceback (most recent call last)",
      "\u001b[0;32m<ipython-input-47-ccbbbadee921>\u001b[0m in \u001b[0;36m<module>\u001b[0;34m()\u001b[0m\n\u001b[1;32m      3\u001b[0m \u001b[0;32mfor\u001b[0m \u001b[0mi\u001b[0m \u001b[0;32min\u001b[0m \u001b[0mimages\u001b[0m\u001b[0;34m:\u001b[0m\u001b[0;34m\u001b[0m\u001b[0m\n\u001b[1;32m      4\u001b[0m     \u001b[0mprint\u001b[0m\u001b[0;34m(\u001b[0m\u001b[0mi\u001b[0m\u001b[0;34m)\u001b[0m\u001b[0;34m\u001b[0m\u001b[0m\n\u001b[0;32m----> 5\u001b[0;31m     \u001b[0mdetect_withmyCNN\u001b[0m\u001b[0;34m(\u001b[0m\u001b[0mi\u001b[0m\u001b[0;34m)\u001b[0m\u001b[0;34m\u001b[0m\u001b[0m\n\u001b[0m",
      "\u001b[0;32m<ipython-input-36-9e59415a8319>\u001b[0m in \u001b[0;36mdetect_withmyCNN\u001b[0;34m(filepath)\u001b[0m\n\u001b[1;32m     24\u001b[0m         \u001b[0;32mreturn\u001b[0m \u001b[0;34m\"Dog detected to be of breed \"\u001b[0m\u001b[0;34m+\u001b[0m \u001b[0mmyCNN_predict_breed\u001b[0m\u001b[0;34m(\u001b[0m\u001b[0mfilepath\u001b[0m\u001b[0;34m)\u001b[0m\u001b[0;34m\u001b[0m\u001b[0m\n\u001b[1;32m     25\u001b[0m     \u001b[0;32melif\u001b[0m \u001b[0mface_detector\u001b[0m\u001b[0;34m(\u001b[0m\u001b[0mfilepath\u001b[0m\u001b[0;34m)\u001b[0m\u001b[0;34m:\u001b[0m\u001b[0;34m\u001b[0m\u001b[0m\n\u001b[0;32m---> 26\u001b[0;31m         \u001b[0;32mreturn\u001b[0m \u001b[0;34m\"A face is detected to resemble dog breed \"\u001b[0m \u001b[0;34m+\u001b[0m \u001b[0mmyCNN_predict_breed\u001b[0m\u001b[0;34m(\u001b[0m\u001b[0mfilepath\u001b[0m\u001b[0;34m)\u001b[0m\u001b[0;34m\u001b[0m\u001b[0m\n\u001b[0m\u001b[1;32m     27\u001b[0m     \u001b[0;32melse\u001b[0m\u001b[0;34m:\u001b[0m\u001b[0;34m\u001b[0m\u001b[0m\n\u001b[1;32m     28\u001b[0m         \u001b[0;32mreturn\u001b[0m \u001b[0;34m\"no face or dog is detected\"\u001b[0m\u001b[0;34m\u001b[0m\u001b[0m\n",
      "\u001b[0;32m<ipython-input-36-9e59415a8319>\u001b[0m in \u001b[0;36mmyCNN_predict_breed\u001b[0;34m(filepath)\u001b[0m\n\u001b[1;32m     15\u001b[0m     \u001b[0mfeatures\u001b[0m \u001b[0;34m=\u001b[0m \u001b[0mnp\u001b[0m\u001b[0;34m.\u001b[0m\u001b[0mexpand_dims\u001b[0m\u001b[0;34m(\u001b[0m\u001b[0mpath_to_tensor\u001b[0m\u001b[0;34m(\u001b[0m\u001b[0mfilepath\u001b[0m\u001b[0;34m)\u001b[0m\u001b[0;34m,\u001b[0m \u001b[0maxis\u001b[0m \u001b[0;34m=\u001b[0m \u001b[0;36m0\u001b[0m\u001b[0;34m)\u001b[0m\u001b[0;34m\u001b[0m\u001b[0m\n\u001b[1;32m     16\u001b[0m     \u001b[0;31m# obtain predicted vector\u001b[0m\u001b[0;34m\u001b[0m\u001b[0;34m\u001b[0m\u001b[0m\n\u001b[0;32m---> 17\u001b[0;31m     \u001b[0mpredicted_vector\u001b[0m \u001b[0;34m=\u001b[0m \u001b[0mmodel\u001b[0m\u001b[0;34m.\u001b[0m\u001b[0mpredict\u001b[0m\u001b[0;34m(\u001b[0m\u001b[0mfeatures\u001b[0m\u001b[0;34m)\u001b[0m\u001b[0;34m\u001b[0m\u001b[0m\n\u001b[0m\u001b[1;32m     18\u001b[0m     \u001b[0;31m# return dog breed that is predicted by the model\u001b[0m\u001b[0;34m\u001b[0m\u001b[0;34m\u001b[0m\u001b[0m\n\u001b[1;32m     19\u001b[0m     \u001b[0;32mreturn\u001b[0m \u001b[0mdog_names\u001b[0m\u001b[0;34m[\u001b[0m\u001b[0mnp\u001b[0m\u001b[0;34m.\u001b[0m\u001b[0margmax\u001b[0m\u001b[0;34m(\u001b[0m\u001b[0mpredicted_vector\u001b[0m\u001b[0;34m)\u001b[0m\u001b[0;34m]\u001b[0m\u001b[0;34m\u001b[0m\u001b[0m\n",
      "\u001b[0;32m~/anaconda3/lib/python3.6/site-packages/keras/engine/training.py\u001b[0m in \u001b[0;36mpredict\u001b[0;34m(self, x, batch_size, verbose, steps)\u001b[0m\n\u001b[1;32m   1147\u001b[0m                              'argument.')\n\u001b[1;32m   1148\u001b[0m         \u001b[0;31m# Validate user data.\u001b[0m\u001b[0;34m\u001b[0m\u001b[0;34m\u001b[0m\u001b[0m\n\u001b[0;32m-> 1149\u001b[0;31m         \u001b[0mx\u001b[0m\u001b[0;34m,\u001b[0m \u001b[0m_\u001b[0m\u001b[0;34m,\u001b[0m \u001b[0m_\u001b[0m \u001b[0;34m=\u001b[0m \u001b[0mself\u001b[0m\u001b[0;34m.\u001b[0m\u001b[0m_standardize_user_data\u001b[0m\u001b[0;34m(\u001b[0m\u001b[0mx\u001b[0m\u001b[0;34m)\u001b[0m\u001b[0;34m\u001b[0m\u001b[0m\n\u001b[0m\u001b[1;32m   1150\u001b[0m         \u001b[0;32mif\u001b[0m \u001b[0mself\u001b[0m\u001b[0;34m.\u001b[0m\u001b[0mstateful\u001b[0m\u001b[0;34m:\u001b[0m\u001b[0;34m\u001b[0m\u001b[0m\n\u001b[1;32m   1151\u001b[0m             \u001b[0;32mif\u001b[0m \u001b[0mx\u001b[0m\u001b[0;34m[\u001b[0m\u001b[0;36m0\u001b[0m\u001b[0;34m]\u001b[0m\u001b[0;34m.\u001b[0m\u001b[0mshape\u001b[0m\u001b[0;34m[\u001b[0m\u001b[0;36m0\u001b[0m\u001b[0;34m]\u001b[0m \u001b[0;34m>\u001b[0m \u001b[0mbatch_size\u001b[0m \u001b[0;32mand\u001b[0m \u001b[0mx\u001b[0m\u001b[0;34m[\u001b[0m\u001b[0;36m0\u001b[0m\u001b[0;34m]\u001b[0m\u001b[0;34m.\u001b[0m\u001b[0mshape\u001b[0m\u001b[0;34m[\u001b[0m\u001b[0;36m0\u001b[0m\u001b[0;34m]\u001b[0m \u001b[0;34m%\u001b[0m \u001b[0mbatch_size\u001b[0m \u001b[0;34m!=\u001b[0m \u001b[0;36m0\u001b[0m\u001b[0;34m:\u001b[0m\u001b[0;34m\u001b[0m\u001b[0m\n",
      "\u001b[0;32m~/anaconda3/lib/python3.6/site-packages/keras/engine/training.py\u001b[0m in \u001b[0;36m_standardize_user_data\u001b[0;34m(self, x, y, sample_weight, class_weight, check_array_lengths, batch_size)\u001b[0m\n\u001b[1;32m    749\u001b[0m             \u001b[0mfeed_input_shapes\u001b[0m\u001b[0;34m,\u001b[0m\u001b[0;34m\u001b[0m\u001b[0m\n\u001b[1;32m    750\u001b[0m             \u001b[0mcheck_batch_axis\u001b[0m\u001b[0;34m=\u001b[0m\u001b[0;32mFalse\u001b[0m\u001b[0;34m,\u001b[0m  \u001b[0;31m# Don't enforce the batch size.\u001b[0m\u001b[0;34m\u001b[0m\u001b[0m\n\u001b[0;32m--> 751\u001b[0;31m             exception_prefix='input')\n\u001b[0m\u001b[1;32m    752\u001b[0m \u001b[0;34m\u001b[0m\u001b[0m\n\u001b[1;32m    753\u001b[0m         \u001b[0;32mif\u001b[0m \u001b[0my\u001b[0m \u001b[0;32mis\u001b[0m \u001b[0;32mnot\u001b[0m \u001b[0;32mNone\u001b[0m\u001b[0;34m:\u001b[0m\u001b[0;34m\u001b[0m\u001b[0m\n",
      "\u001b[0;32m~/anaconda3/lib/python3.6/site-packages/keras/engine/training_utils.py\u001b[0m in \u001b[0;36mstandardize_input_data\u001b[0;34m(data, names, shapes, check_batch_axis, exception_prefix)\u001b[0m\n\u001b[1;32m    126\u001b[0m                         \u001b[0;34m': expected '\u001b[0m \u001b[0;34m+\u001b[0m \u001b[0mnames\u001b[0m\u001b[0;34m[\u001b[0m\u001b[0mi\u001b[0m\u001b[0;34m]\u001b[0m \u001b[0;34m+\u001b[0m \u001b[0;34m' to have '\u001b[0m \u001b[0;34m+\u001b[0m\u001b[0;34m\u001b[0m\u001b[0m\n\u001b[1;32m    127\u001b[0m                         \u001b[0mstr\u001b[0m\u001b[0;34m(\u001b[0m\u001b[0mlen\u001b[0m\u001b[0;34m(\u001b[0m\u001b[0mshape\u001b[0m\u001b[0;34m)\u001b[0m\u001b[0;34m)\u001b[0m \u001b[0;34m+\u001b[0m \u001b[0;34m' dimensions, but got array '\u001b[0m\u001b[0;34m\u001b[0m\u001b[0m\n\u001b[0;32m--> 128\u001b[0;31m                         'with shape ' + str(data_shape))\n\u001b[0m\u001b[1;32m    129\u001b[0m                 \u001b[0;32mif\u001b[0m \u001b[0;32mnot\u001b[0m \u001b[0mcheck_batch_axis\u001b[0m\u001b[0;34m:\u001b[0m\u001b[0;34m\u001b[0m\u001b[0m\n\u001b[1;32m    130\u001b[0m                     \u001b[0mdata_shape\u001b[0m \u001b[0;34m=\u001b[0m \u001b[0mdata_shape\u001b[0m\u001b[0;34m[\u001b[0m\u001b[0;36m1\u001b[0m\u001b[0;34m:\u001b[0m\u001b[0;34m]\u001b[0m\u001b[0;34m\u001b[0m\u001b[0m\n",
      "\u001b[0;31mValueError\u001b[0m: Error when checking input: expected conv2d_1_input to have 4 dimensions, but got array with shape (1, 1, 224, 224, 3)"
     ]
    }
   ],
   "source": [
    "images = sorted(glob(\"images/*.png\"))\n",
    "predictionMyCNN = []\n",
    "for i in images:\n",
    "    print(i)\n",
    "    detect_withmyCNN(i)"
   ]
  },
  {
   "cell_type": "code",
   "execution_count": null,
   "metadata": {},
   "outputs": [],
   "source": [
    "for x in p_withresne"
   ]
  },
  {
   "cell_type": "code",
   "execution_count": 75,
   "metadata": {},
   "outputs": [
    {
     "name": "stdout",
     "output_type": "stream",
     "text": [
      "Downloading data from https://github.com/fchollet/deep-learning-models/releases/download/v0.2/resnet50_weights_tf_dim_ordering_tf_kernels_notop.h5\n",
      "<zip object at 0x1ecece348>\n"
     ]
    }
   ],
   "source": [
    "images = sorted(glob(\"images/*\"))\n",
    "prediction = []\n",
    "for i in images:\n",
    "    prediction.append(detect_in(i))\n",
    "\n",
    "combine = zip(images,prediction)\n",
    "print(combine)\n"
   ]
  },
  {
   "cell_type": "code",
   "execution_count": 76,
   "metadata": {},
   "outputs": [
    {
     "name": "stdout",
     "output_type": "stream",
     "text": [
      "('images/American_water_spaniel_00648.jpg', 'Dog detected to be of breed Portuguese_water_dog')\n",
      "('images/Brittany_02625.jpg', 'Dog detected to be of breed Brittany')\n",
      "('images/Curly-coated_retriever_03896.jpg', 'Dog detected to be of breed Curly-coated_retriever')\n",
      "('images/Labrador_retriever_06449.jpg', 'Dog detected to be of breed Labrador_retriever')\n",
      "('images/Labrador_retriever_06455.jpg', 'Dog detected to be of breed Labrador_retriever')\n",
      "('images/Labrador_retriever_06457.jpg', 'Dog detected to be of breed Labrador_retriever')\n",
      "('images/Welsh_springer_spaniel_08203.jpg', 'Dog detected to be of breed Welsh_springer_spaniel')\n",
      "('images/sample_cnn.png', 'no face or dog is detected')\n",
      "('images/sample_dog_output.png', 'no face or dog is detected')\n",
      "('images/sample_human_output.png', 'A face is detected to resemble dog breed English_toy_spaniel')\n"
     ]
    }
   ],
   "source": [
    "for c in combine:\n",
    "    print(c)"
   ]
  },
  {
   "cell_type": "markdown",
   "metadata": {},
   "source": []
  },
  {
   "cell_type": "code",
   "execution_count": 60,
   "metadata": {},
   "outputs": [],
   "source": [
    "a=[1,2,3,4]\n",
    "b=['a','b','c','d']\n",
    "c = zip(a,b)"
   ]
  },
  {
   "cell_type": "code",
   "execution_count": 61,
   "metadata": {},
   "outputs": [
    {
     "data": {
      "text/plain": [
       "<zip at 0x11cefc308>"
      ]
     },
     "execution_count": 61,
     "metadata": {},
     "output_type": "execute_result"
    }
   ],
   "source": [
    "c"
   ]
  },
  {
   "cell_type": "code",
   "execution_count": 62,
   "metadata": {},
   "outputs": [
    {
     "ename": "TypeError",
     "evalue": "'zip' object is not subscriptable",
     "output_type": "error",
     "traceback": [
      "\u001b[0;31m---------------------------------------------------------------------------\u001b[0m",
      "\u001b[0;31mTypeError\u001b[0m                                 Traceback (most recent call last)",
      "\u001b[0;32m<ipython-input-62-c5cf88d4a041>\u001b[0m in \u001b[0;36m<module>\u001b[0;34m()\u001b[0m\n\u001b[0;32m----> 1\u001b[0;31m \u001b[0mc\u001b[0m\u001b[0;34m[\u001b[0m\u001b[0;36m0\u001b[0m\u001b[0;34m]\u001b[0m\u001b[0;34m[\u001b[0m\u001b[0;36m0\u001b[0m\u001b[0;34m]\u001b[0m\u001b[0;34m\u001b[0m\u001b[0m\n\u001b[0m",
      "\u001b[0;31mTypeError\u001b[0m: 'zip' object is not subscriptable"
     ]
    }
   ],
   "source": [
    "c[0][0]"
   ]
  },
  {
   "cell_type": "code",
   "execution_count": 63,
   "metadata": {},
   "outputs": [
    {
     "name": "stdout",
     "output_type": "stream",
     "text": [
      "(1, 'a')\n",
      "(2, 'b')\n",
      "(3, 'c')\n",
      "(4, 'd')\n"
     ]
    }
   ],
   "source": [
    "for x in c:\n",
    "    print(x)"
   ]
  },
  {
   "cell_type": "code",
   "execution_count": null,
   "metadata": {
    "collapsed": true
   },
   "outputs": [],
   "source": []
  }
 ],
 "metadata": {
  "anaconda-cloud": {},
  "kernelspec": {
   "display_name": "Python 3",
   "language": "python",
   "name": "python3"
  },
  "language_info": {
   "codemirror_mode": {
    "name": "ipython",
    "version": 3
   },
   "file_extension": ".py",
   "mimetype": "text/x-python",
   "name": "python",
   "nbconvert_exporter": "python",
   "pygments_lexer": "ipython3",
   "version": "3.6.5"
  }
 },
 "nbformat": 4,
 "nbformat_minor": 1
}
